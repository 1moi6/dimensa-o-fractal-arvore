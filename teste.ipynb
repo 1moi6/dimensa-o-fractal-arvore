{
 "cells": [
  {
   "cell_type": "code",
   "execution_count": 1,
   "metadata": {},
   "outputs": [],
   "source": [
    "from utils import preencher_caixas_ativas, completar_quadrado, corte\n",
    "from PIL import Image\n",
    "caminho =  'image2.png'\n",
    "imagem = Image.open(f\"./imagens/{caminho}\")\n",
    "# imagem = completar_quadrado(imagem,255)"
   ]
  },
  {
   "cell_type": "code",
   "execution_count": 4,
   "metadata": {},
   "outputs": [],
   "source": [
    "imagem.show()"
   ]
  },
  {
   "cell_type": "code",
   "execution_count": 2,
   "metadata": {},
   "outputs": [],
   "source": [
    "imc_c = corte(imagem,20,'m')\n",
    "imc_c.show()"
   ]
  },
  {
   "cell_type": "code",
   "execution_count": 3,
   "metadata": {},
   "outputs": [
    {
     "data": {
      "text/plain": [
       "(720, 720)"
      ]
     },
     "execution_count": 3,
     "metadata": {},
     "output_type": "execute_result"
    }
   ],
   "source": [
    "imc_c.size"
   ]
  },
  {
   "cell_type": "code",
   "execution_count": 3,
   "metadata": {},
   "outputs": [],
   "source": [
    "tamanho = 5\n",
    "\n",
    "# Gera a visualização\n",
    "img_com_caixas = preencher_caixas_ativas(imagem, tamanho_caixa=tamanho, limiar=5, modo='preto')\n",
    "\n",
    "# Mostra a imagem\n",
    "img_com_caixas.show()"
   ]
  },
  {
   "cell_type": "code",
   "execution_count": 3,
   "metadata": {},
   "outputs": [],
   "source": [
    "import numpy as np\n",
    "import matplotlib.pyplot as plt\n",
    "from PIL import Image, ImageOps,ImageDraw, ImageEnhance\n",
    "\n",
    "def completar_quadrado(imagem):\n",
    "    largura, altura = imagem.size\n",
    "    lado = max(largura, altura)\n",
    "    delta_larg = lado - largura\n",
    "    delta_alt = lado - altura\n",
    "    padding = (delta_larg // 2, delta_alt // 2, delta_larg - delta_larg // 2, delta_alt - delta_alt // 2)\n",
    "    return ImageOps.expand(imagem, padding, fill=1)\n",
    "\n",
    "def contar_caixas_numpy(imagem, subdivisoes, limiar=128, modo='preto'):\n",
    "    \"\"\"\n",
    "    Contagem de caixas otimizada com NumPy puro.\n",
    "\n",
    "    Parâmetros:\n",
    "        imagem: PIL.Image em tons de cinza\n",
    "        subdivisoes: lista de subdivisões do lado (ex: [2, 4, 8, 16])\n",
    "        limiar: valor de corte\n",
    "        modo: 'preto' ou 'branco'\n",
    "\n",
    "    Retorna:\n",
    "        tam_caixa: lista com tamanhos das caixas\n",
    "        num_caixas: lista com número de caixas com estrutura\n",
    "    \"\"\"\n",
    "    img_gray = imagem.convert('L')\n",
    "    matriz = np.array(img_gray)\n",
    "    altura, largura = matriz.shape\n",
    "\n",
    "    tam_caixa = []\n",
    "    num_caixas = []\n",
    "\n",
    "    cnt = 1\n",
    "    for s in subdivisoes:\n",
    "        print(cnt)\n",
    "        cnt += 1\n",
    "        box_h = altura // s\n",
    "        box_w = largura // s\n",
    "\n",
    "        # Corta a imagem para múltiplo exato da caixa\n",
    "        matriz_cortada = matriz[:box_h * s, :box_w * s]\n",
    "\n",
    "        # Binarização\n",
    "        if modo == 'preto':\n",
    "            binaria = matriz_cortada < limiar\n",
    "        else:\n",
    "            binaria = matriz_cortada > limiar\n",
    "\n",
    "        # Reshape para (s, box_h, s, box_w)\n",
    "        reshaped = binaria.reshape(s, box_h, s, box_w)\n",
    "        reshaped = reshaped.transpose(0, 2, 1, 3)  # (s, s, box_h, box_w)\n",
    "\n",
    "        # Verifica se cada bloco tem algum pixel True\n",
    "        presenca = np.any(reshaped, axis=(2, 3))\n",
    "        count = np.sum(presenca)\n",
    "\n",
    "        tam_caixa.append(largura / s)\n",
    "        num_caixas.append(count)\n",
    "\n",
    "    return tam_caixa, num_caixas\n",
    "\n",
    "def preencher_caixas_ativas(imagem, tamanho_caixa, limiar=128, modo='preto', cor=(255, 0, 0, 128)):\n",
    "    \"\"\"\n",
    "    Preenche as caixas que contêm estrutura com uma cor sólida (ou semitransparente).\n",
    "\n",
    "    Parâmetros:\n",
    "        imagem: PIL.Image em tons de cinza ou RGB\n",
    "        tamanho_caixa: lado da caixa (em pixels)\n",
    "        limiar: valor de corte para binarização\n",
    "        modo: 'preto' (pixels < limiar) ou 'branco' (pixels > limiar)\n",
    "        cor: tupla RGBA (ex: vermelho semitransparente = (255, 0, 0, 128))\n",
    "\n",
    "    Retorna:\n",
    "        imagem com sobreposição das caixas preenchidas\n",
    "    \"\"\"\n",
    "    img_gray = imagem.convert('L')\n",
    "    matriz = np.array(img_gray)\n",
    "\n",
    "    if modo == 'preto':\n",
    "        binaria = np.where(matriz < limiar, 1, 0)\n",
    "    else:\n",
    "        binaria = np.where(matriz > limiar, 1, 0)\n",
    "\n",
    "    largura, altura = img_gray.size\n",
    "    img_rgb = imagem.convert('RGBA')\n",
    "    overlay = Image.new('RGBA', img_rgb.size, (0, 0, 0, 0))\n",
    "    draw = ImageDraw.Draw(overlay)\n",
    "\n",
    "    for x in range(0, largura - tamanho_caixa + 1, tamanho_caixa):\n",
    "        for y in range(0, altura - tamanho_caixa + 1, tamanho_caixa):\n",
    "            bloco = binaria[y:y+tamanho_caixa, x:x+tamanho_caixa]\n",
    "            if np.any(bloco):\n",
    "                draw.rectangle(\n",
    "                    [x, y, x + tamanho_caixa - 1, y + tamanho_caixa - 1],\n",
    "                    fill=cor\n",
    "                )\n",
    "\n",
    "    imagem_com_caixas = Image.alpha_composite(img_rgb, overlay)\n",
    "    return imagem_com_caixas.convert('RGB')"
   ]
  },
  {
   "cell_type": "code",
   "execution_count": 4,
   "metadata": {},
   "outputs": [],
   "source": [
    "caminho =  'image2.png'\n",
    "imagem = Image.open(f\"./imagens/{caminho}\")\n",
    "imagem = completar_quadrado(imagem)"
   ]
  },
  {
   "cell_type": "code",
   "execution_count": 5,
   "metadata": {},
   "outputs": [
    {
     "name": "stdout",
     "output_type": "stream",
     "text": [
      "1\n",
      "2\n",
      "3\n",
      "4\n",
      "5\n",
      "6\n",
      "7\n",
      "8\n",
      "9\n",
      "10\n",
      "11\n",
      "12\n",
      "13\n",
      "14\n",
      "15\n",
      "16\n",
      "17\n",
      "18\n",
      "19\n",
      "20\n",
      "21\n",
      "22\n",
      "23\n",
      "24\n",
      "25\n",
      "26\n",
      "27\n",
      "28\n",
      "29\n",
      "30\n",
      "31\n",
      "32\n",
      "33\n",
      "34\n",
      "35\n",
      "36\n",
      "37\n",
      "38\n",
      "39\n",
      "40\n",
      "41\n",
      "42\n",
      "43\n",
      "44\n",
      "45\n",
      "46\n",
      "47\n",
      "48\n",
      "49\n",
      "50\n",
      "51\n",
      "52\n",
      "53\n",
      "54\n",
      "55\n",
      "56\n",
      "57\n",
      "58\n",
      "59\n",
      "60\n",
      "61\n",
      "62\n",
      "63\n",
      "64\n",
      "65\n",
      "66\n",
      "67\n",
      "68\n",
      "69\n",
      "70\n",
      "71\n",
      "72\n",
      "73\n",
      "74\n",
      "75\n",
      "76\n",
      "77\n",
      "78\n",
      "79\n",
      "80\n",
      "81\n",
      "82\n",
      "83\n",
      "84\n",
      "85\n",
      "86\n",
      "87\n",
      "88\n",
      "89\n",
      "90\n",
      "91\n",
      "92\n",
      "93\n",
      "94\n",
      "95\n",
      "96\n",
      "97\n",
      "98\n",
      "99\n",
      "100\n"
     ]
    }
   ],
   "source": [
    "subdivs = np.geomspace(20,720, num=100, dtype=int)\n",
    "limiar = 5  # Ajuste conforme contraste da imagem\n",
    "\n",
    "# Chamada\n",
    "tam_lados, num_blocos = contar_caixas_numpy(imagem, subdivs, limiar=limiar, modo='preto')"
   ]
  },
  {
   "cell_type": "code",
   "execution_count": 8,
   "metadata": {},
   "outputs": [
    {
     "name": "stdout",
     "output_type": "stream",
     "text": [
      "Dimensão fractal estimada: 1.8768\n"
     ]
    },
    {
     "data": {
      "image/png": "[encoded data removed]",
      "text/plain": [
       "<Figure size 600x400 with 1 Axes>"
      ]
     },
     "metadata": {},
     "output_type": "display_data"
    }
   ],
   "source": [
    "\n",
    "# Ajuste linear\n",
    "log_inv_eps = np.log(subdivs) \n",
    "log_N = np.log(num_blocos)\n",
    "coef, _ = np.polyfit(log_inv_eps, log_N, 1)\n",
    "dim_fractal = coef\n",
    "\n",
    "# Resultado\n",
    "print(f\"Dimensão fractal estimada: {dim_fractal:.4f}\")\n",
    "\n",
    "# Gráfico\n",
    "plt.figure(figsize=(6, 4))\n",
    "plt.plot(log_inv_eps[10:], log_N[10:], 'o-', label='Dados log-log')\n",
    "plt.xlabel(\"log(tamanho da caixa)\")\n",
    "plt.ylabel(\"log(número de caixas)\")\n",
    "plt.title(\"Estimativa da dimensão fractal\")\n",
    "plt.grid(True)\n",
    "plt.legend()\n",
    "plt.tight_layout()\n",
    "plt.show()\n"
   ]
  },
  {
   "cell_type": "code",
   "execution_count": 10,
   "metadata": {},
   "outputs": [],
   "source": [
    "tamanho = 2\n",
    "\n",
    "# Gera a visualização\n",
    "img_com_caixas = preencher_caixas_ativas(imagem, tamanho_caixa=tamanho, limiar=5, modo='branco')\n",
    "\n",
    "# Mostra a imagem\n",
    "img_com_caixas.show()"
   ]
  },
  {
   "cell_type": "code",
   "execution_count": 140,
   "metadata": {},
   "outputs": [
    {
     "name": "stdout",
     "output_type": "stream",
     "text": [
      "Dimensão fractal estimada: 1.8768\n"
     ]
    },
    {
     "data": {
      "image/png": "[encoded data removed]",
      "text/plain": [
       "<Figure size 600x400 with 1 Axes>"
      ]
     },
     "metadata": {},
     "output_type": "display_data"
    }
   ],
   "source": [
    "# Ajuste linear\n",
    "log_inv_eps = np.log(subdivs) \n",
    "log_N = np.log(num_blocos)\n",
    "coef, _ = np.polyfit(log_inv_eps, log_N, 1)\n",
    "dim_fractal = coef\n",
    "\n",
    "# Resultado\n",
    "print(f\"Dimensão fractal estimada: {dim_fractal:.4f}\")\n",
    "\n",
    "# Gráfico\n",
    "plt.figure(figsize=(6, 4))\n",
    "plt.plot(log_inv_eps, log_N, 'o-', label='Dados log-log')\n",
    "plt.xlabel(\"log(tamanho da caixa)\")\n",
    "plt.ylabel(\"log(número de caixas)\")\n",
    "plt.title(\"Estimativa da dimensão fractal\")\n",
    "plt.grid(True)\n",
    "plt.legend()\n",
    "plt.tight_layout()\n",
    "plt.show()"
   ]
  },
  {
   "cell_type": "code",
   "execution_count": 9,
   "metadata": {},
   "outputs": [
    {
     "data": {
      "text/plain": [
       "np.float64(1.9657236510478409)"
      ]
     },
     "execution_count": 9,
     "metadata": {},
     "output_type": "execute_result"
    }
   ],
   "source": [
    "coef_sem_intercepto = np.sum(log_inv_eps[20:] * log_N[20:]) / np.sum(log_inv_eps[20:] ** 2)\n",
    "coef_sem_intercepto"
   ]
  }
 ],
 "metadata": {
  "kernelspec": {
   "display_name": "ambiente",
   "language": "python",
   "name": "python3"
  },
  "language_info": {
   "codemirror_mode": {
    "name": "ipython",
    "version": 3
   },
   "file_extension": ".py",
   "mimetype": "text/x-python",
   "name": "python",
   "nbconvert_exporter": "python",
   "pygments_lexer": "ipython3",
   "version": "3.11.9"
  }
 },
 "nbformat": 4,
 "nbformat_minor": 2
}
