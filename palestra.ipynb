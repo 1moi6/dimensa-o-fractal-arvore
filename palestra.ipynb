{
 "cells": [
  {
   "cell_type": "code",
   "execution_count": 86,
   "metadata": {},
   "outputs": [],
   "source": [
    "# Gerar imagens em preto e branco de um triângulo equilátero preenchido\n",
    "# e do Triângulo de Sierpiński com alta resolução (2187 x 2187 = 3^7)\n",
    "\n",
    "from PIL import Image, ImageDraw\n",
    "import numpy as np\n",
    "\n",
    "def draw_filled_equilateral_triangle(draw, size):\n",
    "    \"\"\"Desenha um triângulo equilátero preenchido em imagem PIL.\"\"\"\n",
    "    height = size * np.sqrt(3) / 2\n",
    "    points = [\n",
    "        (size // 2, 0),                   # topo\n",
    "        (0, int(height)),                 # canto inferior esquerdo\n",
    "        (size, int(height)),             # canto inferior direito\n",
    "    ]\n",
    "    draw.polygon(points, fill=0)\n",
    "\n",
    "def draw_sierpinski(draw, p1, p2, p3, depth):\n",
    "    \"\"\"Desenha recursivamente o triângulo de Sierpiński.\"\"\"\n",
    "    if depth == 0:\n",
    "        draw.polygon([p1, p2, p3], fill=0)\n",
    "    else:\n",
    "        # pontos médios\n",
    "        m12 = ((p1[0]+p2[0])/2, (p1[1]+p2[1])/2)\n",
    "        m23 = ((p2[0]+p3[0])/2, (p2[1]+p3[1])/2)\n",
    "        m31 = ((p3[0]+p1[0])/2, (p3[1]+p1[1])/2)\n",
    "        draw_sierpinski(draw, p1, m12, m31, depth-1)\n",
    "        draw_sierpinski(draw, m12, p2, m23, depth-1)\n",
    "        draw_sierpinski(draw, m31, m23, p3, depth-1)\n",
    "\n",
    "# Tamanho da imagem\n",
    "size = 2187\n",
    "height = int(size * np.sqrt(3) / 2)\n",
    "\n",
    "# Triângulo equilátero\n",
    "img_tri = Image.new(\"1\", (size, height), 1)\n",
    "draw_tri = ImageDraw.Draw(img_tri)\n",
    "draw_filled_equilateral_triangle(draw_tri, size)\n",
    "# img_tri.save(\"/mnt/data/triangulo_equilatero_bw.png\")\n",
    "\n",
    "# Triângulo de Sierpiński\n",
    "img_sier = Image.new(\"1\", (size, height), 1)\n",
    "draw_sier = ImageDraw.Draw(img_sier)\n",
    "p1 = (size // 2, 0)\n",
    "p2 = (0, height)\n",
    "p3 = (size, height)\n",
    "draw_sierpinski(draw_sier, p1, p2, p3, depth=10)\n",
    "# img_sier.save(\"/mnt/data/triangulo_sierpinski_bw.png\")\n",
    "\n",
    "# \"/mnt/data/triangulo_equilatero_bw.png\", \"/mnt/data/triangulo_sierpinski_bw.png\"\n"
   ]
  },
  {
   "cell_type": "code",
   "execution_count": 87,
   "metadata": {},
   "outputs": [],
   "source": [
    "img_tri.show()"
   ]
  },
  {
   "cell_type": "code",
   "execution_count": 23,
   "metadata": {},
   "outputs": [],
   "source": [
    "from PIL import Image, ImageOps,ImageDraw\n",
    "def completar_quadrado(imagem,fill):\n",
    "    largura, altura = imagem.size\n",
    "    lado = max(largura, altura)\n",
    "    delta_larg = lado - largura\n",
    "    delta_alt = lado - altura\n",
    "    padding = (delta_larg // 2, delta_alt // 2, delta_larg - delta_larg // 2, delta_alt - delta_alt // 2)\n",
    "    return ImageOps.expand(imagem, padding, fill=fill)\n",
    "\n",
    "def preencher_caixas_ativas(imagem, tamanho_caixa, limiar=128, modo='preto', cor=(255, 0, 0, 128)):\n",
    "    \"\"\"\n",
    "    Preenche as caixas que contêm estrutura com uma cor sólida (ou semitransparente).\n",
    "\n",
    "    Parâmetros:\n",
    "        imagem: PIL.Image em tons de cinza ou RGB\n",
    "        tamanho_caixa: lado da caixa (em pixels)\n",
    "        limiar: valor de corte para binarização\n",
    "        modo: 'preto' (pixels < limiar) ou 'branco' (pixels > limiar)\n",
    "        cor: tupla RGBA (ex: vermelho semitransparente = (255, 0, 0, 128))\n",
    "\n",
    "    Retorna:\n",
    "        imagem com sobreposição das caixas preenchidas\n",
    "    \"\"\"\n",
    "    img_gray = imagem.convert('L')\n",
    "    if modo == 'preto':\n",
    "        imagem = completar_quadrado(img_gray,255)\n",
    "        matriz = np.array(imagem)\n",
    "        binaria = np.where(matriz < limiar, 1, 0)\n",
    "    else:\n",
    "        imagem = completar_quadrado(img_gray,0)\n",
    "        matriz = np.array(imagem)\n",
    "        binaria = np.where(matriz > limiar, 1, 0)\n",
    "\n",
    "    largura, altura = imagem.size\n",
    "    img_rgb = imagem.convert('RGBA')\n",
    "    overlay = Image.new('RGBA', img_rgb.size, (0, 0, 0, 0))\n",
    "    draw = ImageDraw.Draw(overlay)\n",
    "\n",
    "    n_cheias = 0\n",
    "    total = 0\n",
    "\n",
    "    for x in range(0, largura - tamanho_caixa + 1, tamanho_caixa):\n",
    "        for y in range(0, altura - tamanho_caixa + 1, tamanho_caixa):\n",
    "            bloco = binaria[y:y+tamanho_caixa, x:x+tamanho_caixa]\n",
    "            total += 1\n",
    "            if np.any(bloco):\n",
    "                n_cheias += 1\n",
    "                draw.rectangle(\n",
    "                    [x, y, x + tamanho_caixa - 1, y + tamanho_caixa - 1],\n",
    "                    fill=cor\n",
    "                )\n",
    "\n",
    "    imagem_com_caixas = Image.alpha_composite(img_rgb, overlay)\n",
    "    return imagem_com_caixas.convert('RGB'), n_cheias,total"
   ]
  },
  {
   "cell_type": "code",
   "execution_count": 8,
   "metadata": {},
   "outputs": [],
   "source": [
    "img_sier.show()"
   ]
  },
  {
   "cell_type": "code",
   "execution_count": 27,
   "metadata": {},
   "outputs": [
    {
     "data": {
      "text/plain": [
       "(2187, 1893)"
      ]
     },
     "execution_count": 27,
     "metadata": {},
     "output_type": "execute_result"
    }
   ],
   "source": [
    "img_sier.size"
   ]
  },
  {
   "cell_type": "code",
   "execution_count": 114,
   "metadata": {},
   "outputs": [
    {
     "name": "stdout",
     "output_type": "stream",
     "text": [
      "3.0\n",
      "6.240251469155711\n",
      "12.980246132766672\n",
      "26.99999999999999\n",
      "56.162263222401386\n",
      "116.82221519490007\n",
      "242.99999999999997\n",
      "505.4603690016126\n",
      "1051.3999367541003\n",
      "2187.0\n"
     ]
    }
   ],
   "source": [
    "x = []\n",
    "y = []\n",
    "subdivs = np.geomspace(3**1,3**7,10)\n",
    "for i in subdivs:\n",
    "    print(i)\n",
    "    _,bb,cc = preencher_caixas_ativas(img_sier,int(2187/i),200)\n",
    "    x.append(bb)\n",
    "    y.append(cc)"
   ]
  },
  {
   "cell_type": "code",
   "execution_count": 116,
   "metadata": {},
   "outputs": [
    {
     "name": "stdout",
     "output_type": "stream",
     "text": [
      "3.0\n",
      "6.240251469155711\n",
      "12.980246132766672\n",
      "26.99999999999999\n",
      "56.162263222401386\n",
      "116.82221519490007\n",
      "242.99999999999997\n",
      "505.4603690016126\n",
      "1051.3999367541003\n",
      "2187.0\n"
     ]
    }
   ],
   "source": [
    "xt = []\n",
    "yt = []\n",
    "# subdivs = [3,3**2,3**3,3**4,3**5,3**6,3**7]\n",
    "subdivs = np.geomspace(3**1,3**7,10)\n",
    "for i in subdivs:\n",
    "    print(i)\n",
    "    _,bb,cc = preencher_caixas_ativas(img_tri,int(2187/i),200)\n",
    "    xt.append(bb)\n",
    "    yt.append(cc)"
   ]
  },
  {
   "cell_type": "code",
   "execution_count": 115,
   "metadata": {},
   "outputs": [
    {
     "data": {
      "text/plain": [
       "np.float64(1.5730775823914513)"
      ]
     },
     "execution_count": 115,
     "metadata": {},
     "output_type": "execute_result"
    }
   ],
   "source": [
    "\n",
    "log_inv_eps = np.log(subdivs) \n",
    "log_N = np.log(x)\n",
    "coef, _ = np.polyfit(log_inv_eps, log_N, 1)\n",
    "coef\n"
   ]
  },
  {
   "cell_type": "code",
   "execution_count": 117,
   "metadata": {},
   "outputs": [
    {
     "data": {
      "text/plain": [
       "np.float64(1.9244928742106682)"
      ]
     },
     "execution_count": 117,
     "metadata": {},
     "output_type": "execute_result"
    }
   ],
   "source": [
    "\n",
    "log_inv_eps = np.log(subdivs) \n",
    "log_Nt = np.log(xt)\n",
    "coeft, _ = np.polyfit(log_inv_eps, log_Nt, 1)\n",
    "coeft\n"
   ]
  },
  {
   "cell_type": "code",
   "execution_count": 124,
   "metadata": {},
   "outputs": [],
   "source": [
    "it,bb,cc = preencher_caixas_ativas(img_tri,27,200)\n",
    "isi,bb,cc = preencher_caixas_ativas(img_sier,27,200)"
   ]
  },
  {
   "cell_type": "code",
   "execution_count": 126,
   "metadata": {},
   "outputs": [],
   "source": [
    "isi.show()"
   ]
  },
  {
   "cell_type": "code",
   "execution_count": 119,
   "metadata": {},
   "outputs": [
    {
     "data": {
      "image/png": "[encoded data removed]",
      "text/plain": [
       "<Figure size 900x450 with 1 Axes>"
      ]
     },
     "metadata": {},
     "output_type": "display_data"
    }
   ],
   "source": [
    "import matplotlib.pyplot as plt\n",
    "plt.figure(figsize=(9, 4.5))\n",
    "plt.plot(log_inv_eps, log_Nt, 'o-', label=f\"Triângulo equilátero\", color='gray')\n",
    "plt.plot(log_inv_eps, log_N, 'o-', label=f\"Triângulo de Sierpiński\", color='darkred')\n",
    "plt.xlabel(r\"$\\log(1/\\varepsilon)$\")\n",
    "plt.ylabel(r\"$\\log N(\\varepsilon)$\")\n",
    "plt.title(\"Box-counting: Triângulo equilátero vs. Triângulo de Sierpiński\")\n",
    "plt.legend()\n",
    "plt.grid(True, linestyle=\"--\", alpha=0.5)\n",
    "plt.tight_layout()\n",
    "plt.savefig(\"comparativo_boxcounting_triangulos.png\", dpi=300)"
   ]
  },
  {
   "cell_type": "code",
   "execution_count": 146,
   "metadata": {},
   "outputs": [],
   "source": [
    "width1, height1 = isi.size\n",
    "width2, height2 = it.size\n",
    "combined = Image.new(\"RGB\", (width1 + 50+ width2, height1), (255, 255, 255))\n",
    "combined.paste(it, (0, 0))\n",
    "combined.paste(isi, (width1 + 50, 0))\n"
   ]
  },
  {
   "cell_type": "code",
   "execution_count": 148,
   "metadata": {},
   "outputs": [],
   "source": [
    "combined.save(\"comparacao_triangulos_rgb.png\")"
   ]
  }
 ],
 "metadata": {
  "kernelspec": {
   "display_name": "ambiente",
   "language": "python",
   "name": "python3"
  },
  "language_info": {
   "codemirror_mode": {
    "name": "ipython",
    "version": 3
   },
   "file_extension": ".py",
   "mimetype": "text/x-python",
   "name": "python",
   "nbconvert_exporter": "python",
   "pygments_lexer": "ipython3",
   "version": "3.11.9"
  }
 },
 "nbformat": 4,
 "nbformat_minor": 2
}
